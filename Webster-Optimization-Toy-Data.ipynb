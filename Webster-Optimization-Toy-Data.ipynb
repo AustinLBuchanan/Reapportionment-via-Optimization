{
 "cells": [
  {
   "cell_type": "code",
   "execution_count": 1,
   "metadata": {},
   "outputs": [
    {
     "name": "stdout",
     "output_type": "stream",
     "text": [
      "Populations: [27744, 25178, 19951, 14610, 9225, 3292]\n",
      "Quotas: [9.98784, 9.06408, 7.18236, 5.2596, 3.321, 1.18512]\n"
     ]
    }
   ],
   "source": [
    "# (hypothetical) state populations\n",
    "p = [27744, 25178, 19951, 14610, 9225, 3292]\n",
    "\n",
    "# number of states\n",
    "n = len(p)\n",
    "\n",
    "# total country population\n",
    "p_total = sum( p[i] for i in range(n) )\n",
    "\n",
    "# total number of seats to distribute\n",
    "k = 36\n",
    "\n",
    "# state quotas\n",
    "q = [ k * p[i] / p_total for i in range(n) ]\n",
    "\n",
    "print(\"Populations:\",p)\n",
    "print(\"Quotas:\",q)"
   ]
  },
  {
   "cell_type": "code",
   "execution_count": 2,
   "metadata": {},
   "outputs": [],
   "source": [
    "import gurobipy as gp\n",
    "from gurobipy import GRB"
   ]
  },
  {
   "cell_type": "code",
   "execution_count": 3,
   "metadata": {},
   "outputs": [
    {
     "name": "stdout",
     "output_type": "stream",
     "text": [
      "\n",
      "--------------------------------------------\n",
      "Warning: your license will expire in 7 days\n",
      "--------------------------------------------\n",
      "\n",
      "Academic license - for non-commercial use only - expires 2021-06-27\n",
      "Using license file C:\\Users\\buchanan\\gurobi.lic\n"
     ]
    }
   ],
   "source": [
    "# create model object\n",
    "m = gp.Model()\n",
    "\n",
    "# create integer vars x, with x[i] being the number of seats for state i\n",
    "x = m.addVars( n, vtype=GRB.INTEGER )\n",
    "\n",
    "# distribute k seats\n",
    "m.addConstr( gp.quicksum( x[i] for i in range(n) ) == k )\n",
    "\n",
    "# each state gets at least one seat\n",
    "for i in range(n):\n",
    "    x[i].LB = 1\n",
    "\n",
    "m.update()"
   ]
  },
  {
   "cell_type": "code",
   "execution_count": 4,
   "metadata": {},
   "outputs": [
    {
     "name": "stdout",
     "output_type": "stream",
     "text": [
      "Gurobi Optimizer version 9.1.1 build v9.1.1rc0 (win64)\n",
      "Thread count: 4 physical cores, 8 logical processors, using up to 8 threads\n",
      "Optimize a model with 1 rows, 6 columns and 6 nonzeros\n",
      "Model fingerprint: 0xb4f0e90c\n",
      "Model has 6 quadratic objective terms\n",
      "Variable types: 0 continuous, 6 integer (0 binary)\n",
      "Coefficient statistics:\n",
      "  Matrix range     [1e+00, 1e+00]\n",
      "  Objective range  [0e+00, 0e+00]\n",
      "  QObjective range [7e-05, 6e-04]\n",
      "  Bounds range     [1e+00, 1e+00]\n",
      "  RHS range        [4e+01, 4e+01]\n",
      "Presolve time: 0.00s\n",
      "Presolved: 1 rows, 6 columns, 6 nonzeros\n",
      "Presolved model has 6 quadratic objective terms\n",
      "Variable types: 0 continuous, 6 integer (0 binary)\n",
      "Found heuristic solution: objective 0.2738009\n",
      "\n",
      "Root relaxation: objective 1.296000e-02, 8 iterations, 0.00 seconds\n",
      "\n",
      "    Nodes    |    Current Node    |     Objective Bounds      |     Work\n",
      " Expl Unexpl |  Obj  Depth IntInf | Incumbent    BestBd   Gap | It/Node Time\n",
      "\n",
      "H    0     0                       0.0331291    0.00061  98.2%     -    0s\n",
      "     0     0    0.01296    0    6    0.03313    0.01296  60.9%     -    0s\n",
      "H    0     0                       0.0130199    0.01296  0.46%     -    0s\n",
      "     0     0    0.01297    0    5    0.01302    0.01297  0.38%     -    0s\n",
      "     0     0    0.01297    0    5    0.01302    0.01297  0.38%     -    0s\n",
      "     0     1    0.01297    0    5    0.01302    0.01297  0.38%     -    0s\n",
      "\n",
      "Explored 6 nodes (21 simplex iterations) in 0.02 seconds\n",
      "Thread count was 8 (of 8 available processors)\n",
      "\n",
      "Solution count 3: 0.0130199 0.0331291 0.273801 \n",
      "\n",
      "Optimal solution found (tolerance 1.00e-04)\n",
      "Best objective 1.301986967871e-02, best bound 1.301986967871e-02, gap 0.0000%\n"
     ]
    }
   ],
   "source": [
    "# Add objective function for Webster's method: min sum_i (x_i)^2 / p_i\n",
    "m.setObjective( gp.quicksum( x[i] * x[i] / p[i] for i in range(n) ), GRB.MINIMIZE )\n",
    "\n",
    "m.optimize()"
   ]
  },
  {
   "cell_type": "code",
   "execution_count": 5,
   "metadata": {},
   "outputs": [
    {
     "name": "stdout",
     "output_type": "stream",
     "text": [
      "Optimal solution : [10.0, 9.0, 8.0, 5.0, 3.0, 1.0]\n",
      "Compare to quotas: [9.98784, 9.06408, 7.18236, 5.2596, 3.321, 1.18512]\n"
     ]
    }
   ],
   "source": [
    "sol = [ x[i].x for i in range(n) ]\n",
    "print(\"Optimal solution :\", sol)\n",
    "print(\"Compare to quotas:\", q)"
   ]
  },
  {
   "cell_type": "code",
   "execution_count": null,
   "metadata": {},
   "outputs": [],
   "source": []
  }
 ],
 "metadata": {
  "kernelspec": {
   "display_name": "Python 3",
   "language": "python",
   "name": "python3"
  },
  "language_info": {
   "codemirror_mode": {
    "name": "ipython",
    "version": 3
   },
   "file_extension": ".py",
   "mimetype": "text/x-python",
   "name": "python",
   "nbconvert_exporter": "python",
   "pygments_lexer": "ipython3",
   "version": "3.7.10"
  }
 },
 "nbformat": 4,
 "nbformat_minor": 4
}
