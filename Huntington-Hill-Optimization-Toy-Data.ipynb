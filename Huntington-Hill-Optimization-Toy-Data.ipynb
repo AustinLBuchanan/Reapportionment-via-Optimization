{
 "cells": [
  {
   "cell_type": "code",
   "execution_count": 1,
   "metadata": {},
   "outputs": [
    {
     "name": "stdout",
     "output_type": "stream",
     "text": [
      "Populations: [27744, 25178, 19951, 14610, 9225, 3292]\n",
      "Quotas: [9.98784, 9.06408, 7.18236, 5.2596, 3.321, 1.18512]\n"
     ]
    }
   ],
   "source": [
    "# (hypothetical) state populations\n",
    "p = [27744, 25178, 19951, 14610, 9225, 3292]\n",
    "\n",
    "# number of states\n",
    "n = len(p)\n",
    "\n",
    "# total country population\n",
    "p_total = sum( p[i] for i in range(n) )\n",
    "\n",
    "# total number of seats to distribute\n",
    "k = 36\n",
    "\n",
    "# state quotas\n",
    "q = [ k * p[i] / p_total for i in range(n) ]\n",
    "\n",
    "print(\"Populations:\",p)\n",
    "print(\"Quotas:\",q)"
   ]
  },
  {
   "cell_type": "code",
   "execution_count": 2,
   "metadata": {},
   "outputs": [],
   "source": [
    "import gurobipy as gp\n",
    "from gurobipy import GRB"
   ]
  },
  {
   "cell_type": "code",
   "execution_count": 3,
   "metadata": {},
   "outputs": [
    {
     "name": "stdout",
     "output_type": "stream",
     "text": [
      "\n",
      "--------------------------------------------\n",
      "Warning: your license will expire in 7 days\n",
      "--------------------------------------------\n",
      "\n",
      "Academic license - for non-commercial use only - expires 2021-06-27\n",
      "Using license file C:\\Users\\buchanan\\gurobi.lic\n"
     ]
    }
   ],
   "source": [
    "# create model object\n",
    "m = gp.Model()\n",
    "\n",
    "# create integer vars x, with x[i] being the number of seats for state i\n",
    "x = m.addVars( n, vtype=GRB.INTEGER )\n",
    "\n",
    "# distribute k seats\n",
    "m.addConstr( gp.quicksum( x[i] for i in range(n) ) == k )\n",
    "\n",
    "# each state gets at least one seat\n",
    "for i in range(n):\n",
    "    x[i].LB = 1\n",
    "\n",
    "m.update()"
   ]
  },
  {
   "cell_type": "code",
   "execution_count": 4,
   "metadata": {},
   "outputs": [
    {
     "name": "stdout",
     "output_type": "stream",
     "text": [
      "Changed value of parameter NonConvex to 2\n",
      "   Prev: -1  Min: -1  Max: 2  Default: -1\n",
      "Gurobi Optimizer version 9.1.1 build v9.1.1rc0 (win64)\n",
      "Thread count: 4 physical cores, 8 logical processors, using up to 8 threads\n",
      "Optimize a model with 1 rows, 12 columns and 6 nonzeros\n",
      "Model fingerprint: 0xc26326f0\n",
      "Model has 6 quadratic constraints\n",
      "Variable types: 6 continuous, 6 integer (0 binary)\n",
      "Coefficient statistics:\n",
      "  Matrix range     [1e+00, 1e+00]\n",
      "  QMatrix range    [1e+00, 1e+00]\n",
      "  Objective range  [7e+06, 6e+08]\n",
      "  Bounds range     [1e+00, 1e+00]\n",
      "  RHS range        [4e+01, 4e+01]\n",
      "  QRHS range       [1e+00, 1e+00]\n",
      "Presolve time: 0.00s\n",
      "Presolved: 25 rows, 12 columns, 54 nonzeros\n",
      "Presolved model has 6 bilinear constraint(s)\n",
      "Variable types: 6 continuous, 6 integer (0 binary)\n",
      "\n",
      "Root relaxation: objective -2.037572e+08, 6 iterations, 0.00 seconds\n",
      "\n",
      "    Nodes    |    Current Node    |     Objective Bounds      |     Work\n",
      " Expl Unexpl |  Obj  Depth IntInf | Incumbent    BestBd   Gap | It/Node Time\n",
      "\n",
      "     0     0 -2.038e+08    0   10          - -2.038e+08      -     -    0s\n",
      "H    0     0                    2.112672e+08 -2.038e+08   196%     -    0s\n",
      "     0     0 -2.010e+08    0   10 2.1127e+08 -2.010e+08   195%     -    0s\n",
      "H    0     0                    5.733348e+07 -2.010e+08   451%     -    0s\n",
      "     0     0 -1.993e+08    0    5 5.7333e+07 -1.993e+08   448%     -    0s\n",
      "H    0     0                    1.737891e+07 -1.993e+08  1247%     -    0s\n",
      "     0     0 -1.816e+08    0   10 1.7379e+07 -1.816e+08  1145%     -    0s\n",
      "     0     0 -1.783e+08    0    5 1.7379e+07 -1.783e+08  1126%     -    0s\n",
      "H    0     0                    -4.62361e+07 -1.783e+08   286%     -    0s\n",
      "     0     0 -1.771e+08    0    5 -4.624e+07 -1.771e+08   283%     -    0s\n",
      "     0     0 -1.771e+08    0    5 -4.624e+07 -1.771e+08   283%     -    0s\n",
      "     0     2 -1.771e+08    0    5 -4.624e+07 -1.771e+08   283%     -    0s\n",
      "H    5     8                    -5.53176e+07 -1.731e+08   213%   2.8    0s\n",
      "H    7    12                    -7.57608e+07 -1.523e+08   101%   3.3    0s\n",
      "H    8    12                    -8.60909e+07 -1.523e+08  77.0%   3.1    0s\n",
      "H   19    20                    -9.16605e+07 -1.441e+08  57.2%   2.7    0s\n",
      "H   42    36                    -9.19139e+07 -1.269e+08  38.0%   2.4    0s\n",
      "H   48    40                    -9.25511e+07 -1.269e+08  37.1%   2.4    0s\n",
      "H   59    36                    -9.37834e+07 -1.269e+08  35.3%   2.3    0s\n",
      "*  135    33              10    -9.44767e+07 -1.179e+08  24.8%   2.0    0s\n",
      "*  176    29              11    -9.49816e+07 -1.179e+08  24.1%   2.0    0s\n",
      "*  179    29              13    -9.51338e+07 -1.179e+08  23.9%   2.0    0s\n",
      "*  240     9              11    -9.54947e+07 -1.077e+08  12.8%   2.0    0s\n",
      "*  280     0              12    -9.56015e+07 -1.038e+08  8.62%   2.0    0s\n",
      "\n",
      "Cutting planes:\n",
      "  MIR: 3\n",
      "  RLT: 7\n",
      "\n",
      "Explored 292 nodes (601 simplex iterations) in 0.08 seconds\n",
      "Thread count was 8 (of 8 available processors)\n",
      "\n",
      "Solution count 10: -9.56015e+07 -9.54947e+07 -9.51338e+07 ... -8.60909e+07\n",
      "No other solutions better than -9.56015e+07\n",
      "\n",
      "Optimal solution found (tolerance 1.00e-04)\n",
      "Best objective -9.560153155395e+07, best bound -9.560153155395e+07, gap 0.0000%\n"
     ]
    }
   ],
   "source": [
    "# Add objective function for Huntington-Hill's method: \n",
    "#     min sum_i x_i * ( p_i / x_i - d )^2, where\n",
    "d = p_total / k\n",
    "\n",
    "# Expanding gives the objective\n",
    "#     min sum_i [ (p_i)^2 / x_i - 2*d*p_i/x_i + d^2*x_i ].\n",
    "\n",
    "# Substituting y_i = 1 / x_i gives\n",
    "#     min sum_i [ (p_i)^2*y_i - 2*d*p_i*y_i + d^2*x_i ].\n",
    "\n",
    "y = m.addVars(n)\n",
    "m.addConstrs( x[i] * y[i] == 1 for i in range(n) )\n",
    "\n",
    "m.setObjective( gp.quicksum( p[i]*p[i]*y[i] - 2*d*p[i]*y[i] - d*d*x[i] for i in range(n) ), GRB.MINIMIZE )\n",
    "\n",
    "m.Params.NonConvex = 2\n",
    "m.optimize()"
   ]
  },
  {
   "cell_type": "code",
   "execution_count": 5,
   "metadata": {},
   "outputs": [
    {
     "name": "stdout",
     "output_type": "stream",
     "text": [
      "Optimal solution : [11.0, 9.000000000000002, 6.999999999999998, 5.0, 3.0, 1.0]\n",
      "Compare to quotas: [9.98784, 9.06408, 7.18236, 5.2596, 3.321, 1.18512]\n"
     ]
    }
   ],
   "source": [
    "sol = [ x[i].x for i in range(n) ]\n",
    "print(\"Optimal solution :\", sol)\n",
    "print(\"Compare to quotas:\", q)"
   ]
  },
  {
   "cell_type": "code",
   "execution_count": null,
   "metadata": {},
   "outputs": [],
   "source": []
  }
 ],
 "metadata": {
  "kernelspec": {
   "display_name": "Python 3",
   "language": "python",
   "name": "python3"
  },
  "language_info": {
   "codemirror_mode": {
    "name": "ipython",
    "version": 3
   },
   "file_extension": ".py",
   "mimetype": "text/x-python",
   "name": "python",
   "nbconvert_exporter": "python",
   "pygments_lexer": "ipython3",
   "version": "3.7.10"
  }
 },
 "nbformat": 4,
 "nbformat_minor": 4
}
